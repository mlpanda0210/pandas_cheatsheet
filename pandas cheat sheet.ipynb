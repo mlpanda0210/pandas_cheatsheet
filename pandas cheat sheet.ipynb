{
 "cells": [
  {
   "cell_type": "code",
   "execution_count": 2,
   "metadata": {},
   "outputs": [],
   "source": [
    "import pandas as pd\n",
    "import numpy as np\n",
    "import seaborn as sns\n",
    "from tqdm import tqdm\n",
    "tqdm.pandas(desc=\"my bar!\")"
   ]
  },
  {
   "cell_type": "code",
   "execution_count": null,
   "metadata": {
    "collapsed": true
   },
   "outputs": [],
   "source": []
  },
  {
   "cell_type": "code",
   "execution_count": null,
   "metadata": {
    "collapsed": true
   },
   "outputs": [],
   "source": [
    "################ where ####################\n",
    "\n",
    "\n",
    "csv_data = pd.DataFrame({\"a\":[1,4],\"b\":[2.0,5.1],\"string\":[\"ﾎｹﾞ\",\"ﾋｹﾞ\"]})\n",
    "\n",
    "def hoge(data):\n",
    "    if data[0]+data[1]>5:\n",
    "        return 1\n",
    "    else:\n",
    "        return 0\n",
    "\n",
    "\n",
    "csv_data[\"c\"]= csv_data[[\"a\",\"b\"]].apply(hoge,axis=1)"
   ]
  },
  {
   "cell_type": "code",
   "execution_count": null,
   "metadata": {
    "collapsed": true
   },
   "outputs": [],
   "source": [
    "df = pd.read_csv('sample.csv')\n",
    "df = df.set_index('time')\n",
    "df_with_cnd = df.where(df < 0)\n",
    "df_with_cnd = df.where(df < 0,100)\n",
    "\n",
    "df.where(df < 0,100,inplace = True)"
   ]
  },
  {
   "cell_type": "code",
   "execution_count": null,
   "metadata": {},
   "outputs": [],
   "source": [
    "df = pd.read_csv('input/sample1.csv')\n",
    "df = df.set_index('time')\n",
    "print(df)\n",
    "print(\"^^^^^^^^^^^^\")\n",
    "ite = df.iteritems()\n",
    "for elem in ite:\n",
    "    print(elem)"
   ]
  },
  {
   "cell_type": "code",
   "execution_count": null,
   "metadata": {},
   "outputs": [],
   "source": [
    "################ loc ####################\n",
    "\n",
    "df = pd.read_csv('input/sample1.csv')\n",
    "df = df.set_index('time')\n",
    "df.loc[['2016-10-17 00:00:01','2016-10-17 00:00:03'],[\"1\",\"2\"]]\n",
    "df.loc['2016-10-17 00:00:01':'2016-10-17 00:00:03',\"1\":\"4\"]"
   ]
  },
  {
   "cell_type": "code",
   "execution_count": null,
   "metadata": {
    "collapsed": true
   },
   "outputs": [],
   "source": []
  },
  {
   "cell_type": "code",
   "execution_count": null,
   "metadata": {},
   "outputs": [],
   "source": [
    "\n",
    "\n",
    "df = pd.read_csv('input/sample2.csv')\n",
    "df = df.set_index('time')\n",
    "df.loc[['2016-10-17 00:00:01','2016-10-17 00:00:03'],[\"1\",\"2\"]]\n",
    "df.drop_duplicates(inplace=True)\n",
    "df.loc['2016-10-17 00:00:01':'2016-10-17 00:00:03 ','1':'e']"
   ]
  },
  {
   "cell_type": "code",
   "execution_count": null,
   "metadata": {},
   "outputs": [],
   "source": [
    "################ add ####################\n",
    "\n",
    "df = pd.read_csv('input/sample1.csv')\n",
    "df = df.set_index('time')\n",
    "df.ix[0,0]"
   ]
  },
  {
   "cell_type": "code",
   "execution_count": null,
   "metadata": {
    "collapsed": true
   },
   "outputs": [],
   "source": [
    "df = pd.DataFrame(np.arange(0,30).reshape(6,5),index = list(\"ASDFGH\"), columns = list(\"abcde\"))"
   ]
  },
  {
   "cell_type": "code",
   "execution_count": null,
   "metadata": {},
   "outputs": [],
   "source": [
    "s1 = pd.Series(range(6), index=list(\"abcdef\"))\n",
    "s2 = pd.Series([10,20,30,40,50], index=list(\"asdfg\"))\n",
    "\n",
    "\n",
    "s1.add(s2,fill_value=0)"
   ]
  },
  {
   "cell_type": "code",
   "execution_count": null,
   "metadata": {},
   "outputs": [],
   "source": [
    "df1 = pd.DataFrame(np.arange(0,30).reshape((6,5)), index=list(\"ASDFGH\"), columns=list(\"abcde\"))\n",
    "df2 = pd.DataFrame(np.arange(0,42).reshape((7,6)), index=list(\"ASDFGHJ\"), columns=list(\"abcdef\"))\n",
    "df1"
   ]
  },
  {
   "cell_type": "code",
   "execution_count": null,
   "metadata": {},
   "outputs": [],
   "source": [
    "df2"
   ]
  },
  {
   "cell_type": "code",
   "execution_count": null,
   "metadata": {},
   "outputs": [],
   "source": [
    "df1+df2"
   ]
  },
  {
   "cell_type": "code",
   "execution_count": null,
   "metadata": {},
   "outputs": [],
   "source": [
    "############### add fill_value を入れると０で保管して計算する　#####################\n",
    "df1.add(df2,fill_value=0)"
   ]
  },
  {
   "cell_type": "code",
   "execution_count": null,
   "metadata": {
    "collapsed": true
   },
   "outputs": [],
   "source": [
    "s = pd.Series(range(10), index=[list(\"aaabbbccdd\"),[1,2,3,2,1,3,1,2,1,2]])\n"
   ]
  },
  {
   "cell_type": "code",
   "execution_count": null,
   "metadata": {},
   "outputs": [],
   "source": [
    "s[:,1]"
   ]
  },
  {
   "cell_type": "code",
   "execution_count": null,
   "metadata": {},
   "outputs": [],
   "source": [
    "##############　スワップ　######################\n",
    "s.swaplevel(0,1)"
   ]
  },
  {
   "cell_type": "code",
   "execution_count": null,
   "metadata": {},
   "outputs": [],
   "source": [
    "s.unstack()"
   ]
  },
  {
   "cell_type": "code",
   "execution_count": null,
   "metadata": {},
   "outputs": [],
   "source": [
    "df.stack()"
   ]
  },
  {
   "cell_type": "code",
   "execution_count": null,
   "metadata": {},
   "outputs": [],
   "source": [
    "################ rename ####################\n",
    "df.rename(index={\"A\":\"a\",\"S\":\"s\"},columns={\"a\":\"A\",\"b\":\"B\"})"
   ]
  },
  {
   "cell_type": "code",
   "execution_count": null,
   "metadata": {
    "collapsed": true
   },
   "outputs": [],
   "source": []
  },
  {
   "cell_type": "code",
   "execution_count": null,
   "metadata": {
    "collapsed": true
   },
   "outputs": [],
   "source": [
    "################ 離散化 ####################\n",
    "df = pd.DataFrame([[20,\"F\"],[22,\"M\"],[25,\"M\"],[27,\"M\"],[21,\"F\"],[23,\"M\"],[37,\"F\"],[31,\"M\"],[61,\"F\"],[45,\"M\"],[41,\"F\"],[32,\"M\"]], columns=[\"age\", \"sex\"])\n",
    "bins = [18,25,35,60,100]\n",
    "group_names = [\"youth\",\"young_adult\",\"middle_age\",\"senior\"]\n",
    "df[\"bins\"] = pd.cut(df[\"age\"],bins,labels=group_names)"
   ]
  },
  {
   "cell_type": "code",
   "execution_count": null,
   "metadata": {},
   "outputs": [],
   "source": [
    "df"
   ]
  },
  {
   "cell_type": "code",
   "execution_count": null,
   "metadata": {},
   "outputs": [],
   "source": [
    "df.set_index(\"bins\")"
   ]
  },
  {
   "cell_type": "code",
   "execution_count": null,
   "metadata": {},
   "outputs": [],
   "source": [
    "df.sort_values(list(df.columns.values)).set_index([\"bins\",\"sex\"])"
   ]
  },
  {
   "cell_type": "code",
   "execution_count": null,
   "metadata": {},
   "outputs": [],
   "source": [
    "################ takeによるサンプリング　####################\n",
    "df = pd.DataFrame([[20,\"F\"],[22,\"M\"],[25,\"M\"],[27,\"M\"],[21,\"F\"],[23,\"M\"],[37,\"F\"],[31,\"M\"],[61,\"F\"],[45,\"M\"],[41,\"F\"],[32,\"M\"]], columns=[\"age\", \"sex\"])\n",
    "\n",
    "sampler =   np.random.permutation(len(df))\n",
    "sampler"
   ]
  },
  {
   "cell_type": "code",
   "execution_count": null,
   "metadata": {},
   "outputs": [],
   "source": [
    "df.take(sampler[:5])"
   ]
  },
  {
   "cell_type": "code",
   "execution_count": null,
   "metadata": {},
   "outputs": [],
   "source": [
    "################ group_by ####################\n",
    "\n",
    "df.groupby(\"bins\").get_group(\"youth\")"
   ]
  },
  {
   "cell_type": "code",
   "execution_count": null,
   "metadata": {},
   "outputs": [],
   "source": [
    "df.groupby(\"bins\").groups"
   ]
  },
  {
   "cell_type": "code",
   "execution_count": null,
   "metadata": {},
   "outputs": [],
   "source": [
    "df.groupby(\"bins\").mean()"
   ]
  },
  {
   "cell_type": "code",
   "execution_count": null,
   "metadata": {},
   "outputs": [],
   "source": [
    "df.groupby(\"bins\").max()"
   ]
  },
  {
   "cell_type": "code",
   "execution_count": null,
   "metadata": {},
   "outputs": [],
   "source": [
    "df.groupby(\"bins\").min()"
   ]
  },
  {
   "cell_type": "code",
   "execution_count": null,
   "metadata": {},
   "outputs": [],
   "source": [
    "df.groupby(\"bins\").count()"
   ]
  },
  {
   "cell_type": "code",
   "execution_count": null,
   "metadata": {},
   "outputs": [],
   "source": [
    "df.groupby(\"bins\").describe()"
   ]
  },
  {
   "cell_type": "code",
   "execution_count": null,
   "metadata": {},
   "outputs": [],
   "source": [
    "df.groupby(\"bins\").size()"
   ]
  },
  {
   "cell_type": "code",
   "execution_count": null,
   "metadata": {},
   "outputs": [],
   "source": [
    "df.groupby(\"bins\").max()"
   ]
  },
  {
   "cell_type": "code",
   "execution_count": null,
   "metadata": {},
   "outputs": [],
   "source": [
    "df.groupby(\"bins\").min()"
   ]
  },
  {
   "cell_type": "code",
   "execution_count": null,
   "metadata": {},
   "outputs": [],
   "source": [
    "################ groupby agg 集約　####################\n",
    "\n",
    "def diff(group):\n",
    "    return group.max()-group.min()\n",
    "\n",
    "def count(group):\n",
    "    return group.count()\n",
    "\n",
    "df.groupby(\"bins\")[\"age\"].agg([diff,count])"
   ]
  },
  {
   "cell_type": "code",
   "execution_count": null,
   "metadata": {},
   "outputs": [],
   "source": [
    "df[\"age2\"] =df[\"age\"]*2\n",
    "df.groupby(\"bins\").agg({\"age\":np.mean,\"age2\":np.sum})"
   ]
  },
  {
   "cell_type": "code",
   "execution_count": null,
   "metadata": {},
   "outputs": [],
   "source": [
    "################ groupby transform　　####################\n",
    "\n",
    "def zscore(x):\n",
    "    zscore = (x-x.mean())/x.std()\n",
    "    return zscore\n",
    "\n",
    "df.groupby(\"bins\").transform(lambda x: zscore(x))"
   ]
  },
  {
   "cell_type": "code",
   "execution_count": null,
   "metadata": {},
   "outputs": [],
   "source": [
    "df.groupby(\"bins\")[\"age\"].apply(lambda x:np.max(x)-np.min(x))"
   ]
  },
  {
   "cell_type": "code",
   "execution_count": null,
   "metadata": {},
   "outputs": [],
   "source": [
    "################ groupby filter　　####################\n",
    "df.take(df.groupby(\"bins\")[\"age\"].filter(lambda x:np.max(x)-np.min(x)==5).index)"
   ]
  },
  {
   "cell_type": "code",
   "execution_count": null,
   "metadata": {
    "scrolled": true
   },
   "outputs": [],
   "source": [
    "################ groupby agg　　####################\n",
    "df  = sns.load_dataset(\"iris\")\n",
    "df.groupby(\"species\").agg([np.max,np.min])"
   ]
  },
  {
   "cell_type": "code",
   "execution_count": null,
   "metadata": {},
   "outputs": [],
   "source": [
    "################ str split extend list　####################\n",
    "\n",
    "s_org = pd.Series(['aaa@xxx.com', 'bbb@yyy.com', 'ccc@zzz.com', 'ddd'], index=['A', 'B', 'C', 'D'])\n",
    "print(s_org)\n",
    "print(type(s_org))"
   ]
  },
  {
   "cell_type": "code",
   "execution_count": null,
   "metadata": {},
   "outputs": [],
   "source": [
    "s_org.str.split(\"@\")"
   ]
  },
  {
   "cell_type": "code",
   "execution_count": null,
   "metadata": {},
   "outputs": [],
   "source": [
    "s_org.str.split(\"@\",expand=True).stack()"
   ]
  },
  {
   "cell_type": "code",
   "execution_count": null,
   "metadata": {},
   "outputs": [],
   "source": [
    "################ Qiita pandasによる高速化　####################\n",
    "import pandas as pd\n",
    "from sklearn.datasets import fetch_california_housing\n",
    "\n",
    "fetched_data = fetch_california_housing()\n",
    "california_housing = pd.DataFrame(\n",
    "    data=fetched_data['data'],\n",
    "    columns=fetched_data['feature_names']\n",
    ")\n",
    "california_housing.head(5)\n",
    "LOWER_SPLIT = 22.0\n",
    "UPPER_SPLIT = 35.0\n",
    "\n",
    "AGE_LABEL_YOUNG = 'young'\n",
    "AGE_LABEL_MIDDLE = 'middle'\n",
    "AGE_LABEL_OLD = 'old'"
   ]
  },
  {
   "cell_type": "code",
   "execution_count": null,
   "metadata": {},
   "outputs": [],
   "source": []
  },
  {
   "cell_type": "code",
   "execution_count": null,
   "metadata": {
    "collapsed": true
   },
   "outputs": [],
   "source": []
  },
  {
   "cell_type": "code",
   "execution_count": null,
   "metadata": {
    "collapsed": true
   },
   "outputs": [],
   "source": [
    "def method1(data):\n",
    "    _data = data.copy()\n",
    "    _data.loc[:, 'HouseAgeClass'] = None\n",
    "    for i in range(len(_data)):\n",
    "        house_age = _data.iloc[i, :]['HouseAge']\n",
    "        if house_age < LOWER_SPLIT: \n",
    "            _data.iloc[i, -1] = AGE_LABEL_YOUNG\n",
    "        elif LOWER_SPLIT <= house_age < UPPER_SPLIT:\n",
    "            _data.iloc[i, -1] = AGE_LABEL_MIDDLE\n",
    "        else:\n",
    "            _data.iloc[i, -1] = AGE_LABEL_OLD\n",
    "    return _data"
   ]
  },
  {
   "cell_type": "code",
   "execution_count": null,
   "metadata": {},
   "outputs": [],
   "source": [
    "method1(california_housing).head()"
   ]
  },
  {
   "cell_type": "code",
   "execution_count": null,
   "metadata": {
    "collapsed": true
   },
   "outputs": [],
   "source": [
    "def method2(data):\n",
    "    _data = data.copy()    # 元データに影響を与えないようにする\n",
    "    _data.loc[(_data.HouseAge < LOWER_SPLIT), 'HouseAgeClass'] = AGE_LABEL_YOUNG\n",
    "    _data.loc[(_data.HouseAge >= LOWER_SPLIT) & (_data.HouseAge < UPPER_SPLIT), 'HouseAgeClass'] = AGE_LABEL_MIDDLE\n",
    "    _data.loc[(_data.HouseAge >= UPPER_SPLIT), 'HouseAgeClass'] = AGE_LABEL_OLD\n",
    "    return _data"
   ]
  },
  {
   "cell_type": "code",
   "execution_count": null,
   "metadata": {},
   "outputs": [],
   "source": [
    "method2(california_housing).head()"
   ]
  },
  {
   "cell_type": "code",
   "execution_count": null,
   "metadata": {
    "collapsed": true
   },
   "outputs": [],
   "source": [
    "def method3(data):\n",
    "    def create_house_age_class(age):\n",
    "        if age < LOWER_SPLIT:\n",
    "            return AGE_LABEL_YOUNG\n",
    "        elif (LOWER_SPLIT <= age) and (age < UPPER_SPLIT):\n",
    "            return AGE_LABEL_MIDDLE\n",
    "        else:\n",
    "            return AGE_LABEL_OLD\n",
    "\n",
    "    _data = data.copy()\n",
    "    _data.loc[:, 'HousingAgeClass'] = _data.HouseAge.map(create_house_age_class)\n",
    "    return _data"
   ]
  },
  {
   "cell_type": "code",
   "execution_count": null,
   "metadata": {},
   "outputs": [],
   "source": [
    "method3(california_housing).head()"
   ]
  },
  {
   "cell_type": "code",
   "execution_count": null,
   "metadata": {
    "collapsed": true
   },
   "outputs": [],
   "source": [
    "data = california_housing.copy()\n",
    "\n",
    "def create_house_age_class(age):\n",
    "    if age < LOWER_SPLIT:\n",
    "        return AGE_LABEL_YOUNG\n",
    "    elif(LOWER_SPLIT<= age) and (age<UPPER_SPLIT):\n",
    "        return AGE_LABEL_MIDDLE\n",
    "    else:\n",
    "        return AGE_LABEL_OLD\n",
    "data[\"HouseAgeClass\"] = data[\"HouseAge\"].map(create_house_age_class)"
   ]
  },
  {
   "cell_type": "code",
   "execution_count": null,
   "metadata": {},
   "outputs": [],
   "source": [
    "data"
   ]
  },
  {
   "cell_type": "code",
   "execution_count": 5,
   "metadata": {
    "collapsed": true
   },
   "outputs": [],
   "source": [
    "################ Qiita pandasによる高速化　２####################\n",
    "\n",
    "from itertools import product\n",
    "from matplotlib import pyplot as plt\n",
    "import numpy as np\n",
    "import pandas as pd\n",
    "\n",
    "plt.rcParams['font.size'] = 12\n",
    "plt.rcParams['figure.figsize'] = (10, 6)"
   ]
  },
  {
   "cell_type": "code",
   "execution_count": 6,
   "metadata": {},
   "outputs": [
    {
     "data": {
      "text/html": [
       "<div>\n",
       "<style scoped>\n",
       "    .dataframe tbody tr th:only-of-type {\n",
       "        vertical-align: middle;\n",
       "    }\n",
       "\n",
       "    .dataframe tbody tr th {\n",
       "        vertical-align: top;\n",
       "    }\n",
       "\n",
       "    .dataframe thead th {\n",
       "        text-align: right;\n",
       "    }\n",
       "</style>\n",
       "<table border=\"1\" class=\"dataframe\">\n",
       "  <thead>\n",
       "    <tr style=\"text-align: right;\">\n",
       "      <th></th>\n",
       "      <th>user_id</th>\n",
       "      <th>date</th>\n",
       "      <th>item_id</th>\n",
       "      <th>item_name</th>\n",
       "      <th>item_purchase_count</th>\n",
       "      <th>payment</th>\n",
       "    </tr>\n",
       "  </thead>\n",
       "  <tbody>\n",
       "    <tr>\n",
       "      <th>0</th>\n",
       "      <td>2855</td>\n",
       "      <td>2018-04-14</td>\n",
       "      <td>5</td>\n",
       "      <td>item005</td>\n",
       "      <td>4</td>\n",
       "      <td>6000</td>\n",
       "    </tr>\n",
       "    <tr>\n",
       "      <th>1</th>\n",
       "      <td>9634</td>\n",
       "      <td>2018-05-23</td>\n",
       "      <td>4</td>\n",
       "      <td>item004</td>\n",
       "      <td>4</td>\n",
       "      <td>6000</td>\n",
       "    </tr>\n",
       "    <tr>\n",
       "      <th>2</th>\n",
       "      <td>5936</td>\n",
       "      <td>2018-05-28</td>\n",
       "      <td>10</td>\n",
       "      <td>item010</td>\n",
       "      <td>4</td>\n",
       "      <td>6000</td>\n",
       "    </tr>\n",
       "    <tr>\n",
       "      <th>3</th>\n",
       "      <td>6635</td>\n",
       "      <td>2018-03-08</td>\n",
       "      <td>9</td>\n",
       "      <td>item009</td>\n",
       "      <td>0</td>\n",
       "      <td>0</td>\n",
       "    </tr>\n",
       "    <tr>\n",
       "      <th>4</th>\n",
       "      <td>8864</td>\n",
       "      <td>2018-05-27</td>\n",
       "      <td>9</td>\n",
       "      <td>item009</td>\n",
       "      <td>0</td>\n",
       "      <td>0</td>\n",
       "    </tr>\n",
       "  </tbody>\n",
       "</table>\n",
       "</div>"
      ],
      "text/plain": [
       "   user_id        date  item_id item_name  item_purchase_count  payment\n",
       "0     2855  2018-04-14        5   item005                    4     6000\n",
       "1     9634  2018-05-23        4   item004                    4     6000\n",
       "2     5936  2018-05-28       10   item010                    4     6000\n",
       "3     6635  2018-03-08        9   item009                    0        0\n",
       "4     8864  2018-05-27        9   item009                    0        0"
      ]
     },
     "execution_count": 6,
     "metadata": {},
     "output_type": "execute_result"
    }
   ],
   "source": [
    "item_data = pd.read_csv('data/game_user_item.csv')\n",
    "item_data.head(5)"
   ]
  },
  {
   "cell_type": "code",
   "execution_count": null,
   "metadata": {
    "collapsed": true
   },
   "outputs": [],
   "source": [
    "def create_values(sample_size):\n",
    "    user_id_list = sorted(item_data.user_id.unique().tolist())\n",
    "    date_list = sorted(item_data.date.unique().tolist())\n",
    "    item_id_list = sorted(item_data.item_id.unique().tolist())\n",
    "    item_name_list = sorted(item_data.item_name.unique().tolist())\n",
    "    return user_id_list[:sample_size], date_list, item_id_list, item_name_list\n"
   ]
  },
  {
   "cell_type": "code",
   "execution_count": null,
   "metadata": {},
   "outputs": [],
   "source": [
    "def method1(sample_size):\n",
    "    user_id_list, date_list, item_id_list, item_name_list = create_values(sample_size)\n",
    "    master = pd.DataFrame()\n",
    "    for user_id in user_id_list:\n",
    "        for date in date_list:\n",
    "            for item_id, item_name in zip(item_id_list, item_name_list):\n",
    "                _master = pd.DataFrame(\n",
    "                    data={\n",
    "                        'user_id': [user_id],\n",
    "                        'date': [date],\n",
    "                        'item_id': [item_id],\n",
    "                        'item_name': [item_name]\n",
    "                    },\n",
    "                    columns=['user_id', 'date', 'item_id', 'item_name']\n",
    "                )\n",
    "                master = master.append(_master)\n",
    "    master.reset_index(drop=True, inplace=True)\n",
    "    return master\n",
    "\n",
    "\n",
    "method1(10).head(10)"
   ]
  },
  {
   "cell_type": "code",
   "execution_count": null,
   "metadata": {},
   "outputs": [],
   "source": [
    "def method2(sample_size):\n",
    "        user_id_list, date_list, item_id_list, item_name_list = create_values(sample_size)\n",
    "        master_user = []\n",
    "        master_date = []\n",
    "        master_item_id = []\n",
    "        master_item_name = []\n",
    "        for user_id in user_id_list:\n",
    "            for date in date_list:\n",
    "                for item_id, item_name in zip(item_id_list, item_name_list):\n",
    "                    master_user.append(user_id)\n",
    "                    master_date.append(date)\n",
    "                    master_item_id.append(item_id)\n",
    "                    master_item_name.append(item_name)\n",
    "        master = pd.DataFrame(\n",
    "            data={\n",
    "                'user_id': master_user,\n",
    "                'date': master_date,\n",
    "                'item_id': master_item_id,\n",
    "                'item_name': master_item_name\n",
    "            },\n",
    "            columns=['user_id', 'date', 'item_id', 'item_name']\n",
    "        )\n",
    "        return master\n",
    "\n",
    "\n",
    "method2(10000).head()"
   ]
  },
  {
   "cell_type": "code",
   "execution_count": null,
   "metadata": {
    "scrolled": true
   },
   "outputs": [],
   "source": [
    "item_data.head()"
   ]
  },
  {
   "cell_type": "code",
   "execution_count": 7,
   "metadata": {},
   "outputs": [
    {
     "name": "stderr",
     "output_type": "stream",
     "text": [
      "my bar!: 100%|██████████| 10000000/10000000 [05:44<00:00, 29018.93it/s]\n"
     ]
    }
   ],
   "source": [
    "## applyを使った高速化\n",
    "\n",
    "CORRECT_PRICE_MASTER = {\n",
    "    4: 360,\n",
    "    6: 1000,\n",
    "    7: 680\n",
    "}\n",
    "\n",
    "def calc_correct_payment(item_id,item_purchase_count, payment):\n",
    "    correct_price = CORRECT_PRICE_MASTER.get(item_id)\n",
    "    if correct_price == None:\n",
    "        return payment\n",
    "    else:\n",
    "        new_payment = correct_price * item_purchase_count\n",
    "        return new_payment\n",
    "    \n",
    "    \n",
    "\n",
    "item_data[\"new_payment\"] = item_data.progress_apply(lambda x: calc_correct_payment(x[\"item_id\"],x[\"item_purchase_count\"],x[\"payment\"]),axis=1)"
   ]
  },
  {
   "cell_type": "code",
   "execution_count": 9,
   "metadata": {},
   "outputs": [
    {
     "data": {
      "text/html": [
       "<div>\n",
       "<style scoped>\n",
       "    .dataframe tbody tr th:only-of-type {\n",
       "        vertical-align: middle;\n",
       "    }\n",
       "\n",
       "    .dataframe tbody tr th {\n",
       "        vertical-align: top;\n",
       "    }\n",
       "\n",
       "    .dataframe thead th {\n",
       "        text-align: right;\n",
       "    }\n",
       "</style>\n",
       "<table border=\"1\" class=\"dataframe\">\n",
       "  <thead>\n",
       "    <tr style=\"text-align: right;\">\n",
       "      <th></th>\n",
       "      <th>user_id</th>\n",
       "      <th>date</th>\n",
       "      <th>item_id</th>\n",
       "      <th>item_name</th>\n",
       "      <th>item_purchase_count</th>\n",
       "      <th>payment</th>\n",
       "      <th>new_payment</th>\n",
       "    </tr>\n",
       "  </thead>\n",
       "  <tbody>\n",
       "    <tr>\n",
       "      <th>0</th>\n",
       "      <td>2855</td>\n",
       "      <td>2018-04-14</td>\n",
       "      <td>5</td>\n",
       "      <td>item005</td>\n",
       "      <td>4</td>\n",
       "      <td>6000</td>\n",
       "      <td>6000</td>\n",
       "    </tr>\n",
       "    <tr>\n",
       "      <th>1</th>\n",
       "      <td>9634</td>\n",
       "      <td>2018-05-23</td>\n",
       "      <td>4</td>\n",
       "      <td>item004</td>\n",
       "      <td>4</td>\n",
       "      <td>6000</td>\n",
       "      <td>1440</td>\n",
       "    </tr>\n",
       "    <tr>\n",
       "      <th>2</th>\n",
       "      <td>5936</td>\n",
       "      <td>2018-05-28</td>\n",
       "      <td>10</td>\n",
       "      <td>item010</td>\n",
       "      <td>4</td>\n",
       "      <td>6000</td>\n",
       "      <td>6000</td>\n",
       "    </tr>\n",
       "    <tr>\n",
       "      <th>3</th>\n",
       "      <td>6635</td>\n",
       "      <td>2018-03-08</td>\n",
       "      <td>9</td>\n",
       "      <td>item009</td>\n",
       "      <td>0</td>\n",
       "      <td>0</td>\n",
       "      <td>0</td>\n",
       "    </tr>\n",
       "    <tr>\n",
       "      <th>4</th>\n",
       "      <td>8864</td>\n",
       "      <td>2018-05-27</td>\n",
       "      <td>9</td>\n",
       "      <td>item009</td>\n",
       "      <td>0</td>\n",
       "      <td>0</td>\n",
       "      <td>0</td>\n",
       "    </tr>\n",
       "  </tbody>\n",
       "</table>\n",
       "</div>"
      ],
      "text/plain": [
       "   user_id        date  item_id item_name  item_purchase_count  payment  \\\n",
       "0     2855  2018-04-14        5   item005                    4     6000   \n",
       "1     9634  2018-05-23        4   item004                    4     6000   \n",
       "2     5936  2018-05-28       10   item010                    4     6000   \n",
       "3     6635  2018-03-08        9   item009                    0        0   \n",
       "4     8864  2018-05-27        9   item009                    0        0   \n",
       "\n",
       "   new_payment  \n",
       "0         6000  \n",
       "1         1440  \n",
       "2         6000  \n",
       "3            0  \n",
       "4            0  "
      ]
     },
     "metadata": {},
     "output_type": "display_data"
    },
    {
     "data": {
      "text/html": [
       "<div>\n",
       "<style scoped>\n",
       "    .dataframe tbody tr th:only-of-type {\n",
       "        vertical-align: middle;\n",
       "    }\n",
       "\n",
       "    .dataframe tbody tr th {\n",
       "        vertical-align: top;\n",
       "    }\n",
       "\n",
       "    .dataframe thead th {\n",
       "        text-align: right;\n",
       "    }\n",
       "</style>\n",
       "<table border=\"1\" class=\"dataframe\">\n",
       "  <thead>\n",
       "    <tr style=\"text-align: right;\">\n",
       "      <th></th>\n",
       "      <th>user_id</th>\n",
       "      <th>date</th>\n",
       "      <th>item_id</th>\n",
       "      <th>item_name</th>\n",
       "      <th>item_purchase_count</th>\n",
       "      <th>payment</th>\n",
       "      <th>new_payment</th>\n",
       "    </tr>\n",
       "  </thead>\n",
       "  <tbody>\n",
       "    <tr>\n",
       "      <th>9999995</th>\n",
       "      <td>4899</td>\n",
       "      <td>2018-10-05</td>\n",
       "      <td>3</td>\n",
       "      <td>item003</td>\n",
       "      <td>3</td>\n",
       "      <td>4500</td>\n",
       "      <td>4500</td>\n",
       "    </tr>\n",
       "    <tr>\n",
       "      <th>9999996</th>\n",
       "      <td>3481</td>\n",
       "      <td>2018-04-14</td>\n",
       "      <td>8</td>\n",
       "      <td>item008</td>\n",
       "      <td>3</td>\n",
       "      <td>4500</td>\n",
       "      <td>4500</td>\n",
       "    </tr>\n",
       "    <tr>\n",
       "      <th>9999997</th>\n",
       "      <td>3328</td>\n",
       "      <td>2018-10-23</td>\n",
       "      <td>5</td>\n",
       "      <td>item005</td>\n",
       "      <td>3</td>\n",
       "      <td>4500</td>\n",
       "      <td>4500</td>\n",
       "    </tr>\n",
       "    <tr>\n",
       "      <th>9999998</th>\n",
       "      <td>7270</td>\n",
       "      <td>2018-10-05</td>\n",
       "      <td>4</td>\n",
       "      <td>item004</td>\n",
       "      <td>6</td>\n",
       "      <td>9000</td>\n",
       "      <td>2160</td>\n",
       "    </tr>\n",
       "    <tr>\n",
       "      <th>9999999</th>\n",
       "      <td>3639</td>\n",
       "      <td>2018-04-23</td>\n",
       "      <td>8</td>\n",
       "      <td>item008</td>\n",
       "      <td>3</td>\n",
       "      <td>4500</td>\n",
       "      <td>4500</td>\n",
       "    </tr>\n",
       "  </tbody>\n",
       "</table>\n",
       "</div>"
      ],
      "text/plain": [
       "         user_id        date  item_id item_name  item_purchase_count  payment  \\\n",
       "9999995     4899  2018-10-05        3   item003                    3     4500   \n",
       "9999996     3481  2018-04-14        8   item008                    3     4500   \n",
       "9999997     3328  2018-10-23        5   item005                    3     4500   \n",
       "9999998     7270  2018-10-05        4   item004                    6     9000   \n",
       "9999999     3639  2018-04-23        8   item008                    3     4500   \n",
       "\n",
       "         new_payment  \n",
       "9999995         4500  \n",
       "9999996         4500  \n",
       "9999997         4500  \n",
       "9999998         2160  \n",
       "9999999         4500  "
      ]
     },
     "metadata": {},
     "output_type": "display_data"
    }
   ],
   "source": [
    "display(item_data.head())\n",
    "display(item_data.tail())"
   ]
  },
  {
   "cell_type": "code",
   "execution_count": 8,
   "metadata": {},
   "outputs": [
    {
     "data": {
      "text/html": [
       "<div>\n",
       "<style scoped>\n",
       "    .dataframe tbody tr th:only-of-type {\n",
       "        vertical-align: middle;\n",
       "    }\n",
       "\n",
       "    .dataframe tbody tr th {\n",
       "        vertical-align: top;\n",
       "    }\n",
       "\n",
       "    .dataframe thead th {\n",
       "        text-align: right;\n",
       "    }\n",
       "</style>\n",
       "<table border=\"1\" class=\"dataframe\">\n",
       "  <thead>\n",
       "    <tr style=\"text-align: right;\">\n",
       "      <th></th>\n",
       "      <th>user_id</th>\n",
       "      <th>date</th>\n",
       "      <th>item_id</th>\n",
       "      <th>item_name</th>\n",
       "      <th>item_purchase_count</th>\n",
       "      <th>payment</th>\n",
       "      <th>new_payment</th>\n",
       "    </tr>\n",
       "  </thead>\n",
       "  <tbody>\n",
       "    <tr>\n",
       "      <th>0</th>\n",
       "      <td>2855</td>\n",
       "      <td>2018-04-14</td>\n",
       "      <td>5</td>\n",
       "      <td>item005</td>\n",
       "      <td>4</td>\n",
       "      <td>6000</td>\n",
       "      <td>6000</td>\n",
       "    </tr>\n",
       "    <tr>\n",
       "      <th>1</th>\n",
       "      <td>9634</td>\n",
       "      <td>2018-05-23</td>\n",
       "      <td>4</td>\n",
       "      <td>item004</td>\n",
       "      <td>4</td>\n",
       "      <td>6000</td>\n",
       "      <td>1440</td>\n",
       "    </tr>\n",
       "    <tr>\n",
       "      <th>2</th>\n",
       "      <td>5936</td>\n",
       "      <td>2018-05-28</td>\n",
       "      <td>10</td>\n",
       "      <td>item010</td>\n",
       "      <td>4</td>\n",
       "      <td>6000</td>\n",
       "      <td>6000</td>\n",
       "    </tr>\n",
       "    <tr>\n",
       "      <th>3</th>\n",
       "      <td>6635</td>\n",
       "      <td>2018-03-08</td>\n",
       "      <td>9</td>\n",
       "      <td>item009</td>\n",
       "      <td>0</td>\n",
       "      <td>0</td>\n",
       "      <td>0</td>\n",
       "    </tr>\n",
       "    <tr>\n",
       "      <th>4</th>\n",
       "      <td>8864</td>\n",
       "      <td>2018-05-27</td>\n",
       "      <td>9</td>\n",
       "      <td>item009</td>\n",
       "      <td>0</td>\n",
       "      <td>0</td>\n",
       "      <td>0</td>\n",
       "    </tr>\n",
       "  </tbody>\n",
       "</table>\n",
       "</div>"
      ],
      "text/plain": [
       "   user_id        date  item_id item_name  item_purchase_count  payment  \\\n",
       "0     2855  2018-04-14        5   item005                    4     6000   \n",
       "1     9634  2018-05-23        4   item004                    4     6000   \n",
       "2     5936  2018-05-28       10   item010                    4     6000   \n",
       "3     6635  2018-03-08        9   item009                    0        0   \n",
       "4     8864  2018-05-27        9   item009                    0        0   \n",
       "\n",
       "   new_payment  \n",
       "0         6000  \n",
       "1         1440  \n",
       "2         6000  \n",
       "3            0  \n",
       "4            0  "
      ]
     },
     "metadata": {},
     "output_type": "display_data"
    },
    {
     "data": {
      "text/html": [
       "<div>\n",
       "<style scoped>\n",
       "    .dataframe tbody tr th:only-of-type {\n",
       "        vertical-align: middle;\n",
       "    }\n",
       "\n",
       "    .dataframe tbody tr th {\n",
       "        vertical-align: top;\n",
       "    }\n",
       "\n",
       "    .dataframe thead th {\n",
       "        text-align: right;\n",
       "    }\n",
       "</style>\n",
       "<table border=\"1\" class=\"dataframe\">\n",
       "  <thead>\n",
       "    <tr style=\"text-align: right;\">\n",
       "      <th></th>\n",
       "      <th>user_id</th>\n",
       "      <th>date</th>\n",
       "      <th>item_id</th>\n",
       "      <th>item_name</th>\n",
       "      <th>item_purchase_count</th>\n",
       "      <th>payment</th>\n",
       "      <th>new_payment</th>\n",
       "    </tr>\n",
       "  </thead>\n",
       "  <tbody>\n",
       "    <tr>\n",
       "      <th>9999995</th>\n",
       "      <td>4899</td>\n",
       "      <td>2018-10-05</td>\n",
       "      <td>3</td>\n",
       "      <td>item003</td>\n",
       "      <td>3</td>\n",
       "      <td>4500</td>\n",
       "      <td>4500</td>\n",
       "    </tr>\n",
       "    <tr>\n",
       "      <th>9999996</th>\n",
       "      <td>3481</td>\n",
       "      <td>2018-04-14</td>\n",
       "      <td>8</td>\n",
       "      <td>item008</td>\n",
       "      <td>3</td>\n",
       "      <td>4500</td>\n",
       "      <td>4500</td>\n",
       "    </tr>\n",
       "    <tr>\n",
       "      <th>9999997</th>\n",
       "      <td>3328</td>\n",
       "      <td>2018-10-23</td>\n",
       "      <td>5</td>\n",
       "      <td>item005</td>\n",
       "      <td>3</td>\n",
       "      <td>4500</td>\n",
       "      <td>4500</td>\n",
       "    </tr>\n",
       "    <tr>\n",
       "      <th>9999998</th>\n",
       "      <td>7270</td>\n",
       "      <td>2018-10-05</td>\n",
       "      <td>4</td>\n",
       "      <td>item004</td>\n",
       "      <td>6</td>\n",
       "      <td>9000</td>\n",
       "      <td>2160</td>\n",
       "    </tr>\n",
       "    <tr>\n",
       "      <th>9999999</th>\n",
       "      <td>3639</td>\n",
       "      <td>2018-04-23</td>\n",
       "      <td>8</td>\n",
       "      <td>item008</td>\n",
       "      <td>3</td>\n",
       "      <td>4500</td>\n",
       "      <td>4500</td>\n",
       "    </tr>\n",
       "  </tbody>\n",
       "</table>\n",
       "</div>"
      ],
      "text/plain": [
       "         user_id        date  item_id item_name  item_purchase_count  payment  \\\n",
       "9999995     4899  2018-10-05        3   item003                    3     4500   \n",
       "9999996     3481  2018-04-14        8   item008                    3     4500   \n",
       "9999997     3328  2018-10-23        5   item005                    3     4500   \n",
       "9999998     7270  2018-10-05        4   item004                    6     9000   \n",
       "9999999     3639  2018-04-23        8   item008                    3     4500   \n",
       "\n",
       "         new_payment  \n",
       "9999995         4500  \n",
       "9999996         4500  \n",
       "9999997         4500  \n",
       "9999998         2160  \n",
       "9999999         4500  "
      ]
     },
     "metadata": {},
     "output_type": "display_data"
    }
   ],
   "source": []
  },
  {
   "cell_type": "code",
   "execution_count": null,
   "metadata": {},
   "outputs": [],
   "source": []
  },
  {
   "cell_type": "code",
   "execution_count": null,
   "metadata": {
    "collapsed": true
   },
   "outputs": [],
   "source": []
  }
 ],
 "metadata": {
  "kernelspec": {
   "display_name": "Python 3",
   "language": "python",
   "name": "python3"
  },
  "language_info": {
   "codemirror_mode": {
    "name": "ipython",
    "version": 3
   },
   "file_extension": ".py",
   "mimetype": "text/x-python",
   "name": "python",
   "nbconvert_exporter": "python",
   "pygments_lexer": "ipython3",
   "version": "3.6.7"
  }
 },
 "nbformat": 4,
 "nbformat_minor": 2
}
